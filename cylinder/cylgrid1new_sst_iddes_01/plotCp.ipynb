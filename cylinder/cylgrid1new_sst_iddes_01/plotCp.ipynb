{
 "cells": [
  {
   "cell_type": "markdown",
   "metadata": {},
   "source": [
    "# Plot Cp distribution\n",
    "## grid1 case, new BC, new Code\n",
    "Generate the `cylpressure.dat` file using\n",
    "\n",
    "```bash\n",
    "$ python3 ../utilities/pp_cyl.py -m rundir/out01/cylinder.e -t 60\n",
    "```"
   ]
  },
  {
   "cell_type": "code",
   "execution_count": 1,
   "metadata": {},
   "outputs": [],
   "source": [
    "%%capture\n",
    "import sys\n",
    "sys.path.insert(1, '../utilities')\n",
    "import litCpData\n",
    "import numpy as np\n",
    "import matplotlib.pyplot as plt\n",
    "\n",
    "# Define a useful function for pull stuff out of dicts\n",
    "getparam = lambda keylabel, pdict, default: pdict[keylabel] if keylabel in pdict else default"
   ]
  },
  {
   "cell_type": "code",
   "execution_count": 2,
   "metadata": {},
   "outputs": [],
   "source": [
    "# Basic problem parameters\n",
    "D     = 6            # Cylinder diameter\n",
    "U     = 20           # Freestream velocity\n",
    "Lspan = 24           # Spanwise length\n",
    "A     = D*Lspan      # frontal area\n",
    "rho   = 1.225        # density\n",
    "Q     = 0.5*rho*U*U  # Dynamic head"
   ]
  },
  {
   "cell_type": "code",
   "execution_count": 3,
   "metadata": {},
   "outputs": [],
   "source": [
    "# Index of all runs here\n",
    "runlist=[\n",
    "    # Name,                                cylpressure file, style dict\n",
    "    ['Nalu-Wind IDDES (new BC/new code)',  'cylpressure03.dat',                        {'color':'k', 'lw':2, 'lstyle':'--'}],\n",
    "    ['Nalu-Wind IDDES (old BC/old code)',  '../cylgrid1_sst_iddes_01/cylpressure.dat', {'color':'k', 'lw':2, 'lstyle':'-'}],\n",
    "]\n",
    "    "
   ]
  },
  {
   "cell_type": "code",
   "execution_count": 4,
   "metadata": {},
   "outputs": [],
   "source": [
    "# Load the pressure data\n",
    "P = np.loadtxt('cylpressure03.dat', skiprows=1, delimiter=',')\n",
    "\n",
    "# Construct Theta vs Cp\n",
    "XYtoDeg = lambda x, y: np.arctan2(y,x)*180.0/np.pi+180.0\n",
    "X=np.array([XYtoDeg(P[:,0], P[:,1]), P[:,3]/Q]).transpose()\n",
    "thetaCp=X[X[:,0].argsort()]\n",
    "\n",
    "# Save the data\n",
    "np.savetxt('CpDistribution.dat', thetaCp)"
   ]
  },
  {
   "cell_type": "code",
   "execution_count": null,
   "metadata": {},
   "outputs": [],
   "source": [
    "# Plot Cp distribution\n",
    "plt.rc('font', size=16)\n",
    "plt.figure(figsize=(10,8))\n",
    "\n",
    "# Plot other people's values\n",
    "litCpData.plotEXP()\n",
    "litCpData.plotCFD()\n",
    "\n",
    "for run in runlist:\n",
    "    label    = run[0]\n",
    "    filename = run[1]\n",
    "    rundict  = run[2]\n",
    "    P = np.loadtxt(filename, skiprows=1, delimiter=',')\n",
    "    # Construct Theta vs Cp\n",
    "    XYtoDeg = lambda x, y: np.arctan2(y,x)*180.0/np.pi+180.0\n",
    "    X=np.array([XYtoDeg(P[:,0], P[:,1]), P[:,3]/Q]).transpose()\n",
    "    thetaCp=X[X[:,0].argsort()]\n",
    "    \n",
    "    lstyle = getparam('lstyle', rundict, '-')\n",
    "    lw     = getparam('lw', rundict, 1.25)\n",
    "    color  = getparam('color', rundict, 'b')\n",
    "    \n",
    "    plt.plot(thetaCp[:,0], thetaCp[:,1],linestyle=lstyle, color=color, linewidth=lw, label=label)\n",
    "    \n",
    "plt.xlim([0, 179])\n",
    "plt.legend()\n",
    "plt.xlabel(r'Theta $\\theta$')\n",
    "plt.ylabel(r'$C_p$')\n",
    "plt.grid()\n",
    "plt.title(r'$C_p$ distribution [grid1, new BC/new Code]')\n",
    "plt.tight_layout()"
   ]
  }
 ],
 "metadata": {
  "kernelspec": {
   "display_name": "Python 3",
   "language": "python",
   "name": "python3"
  },
  "language_info": {
   "codemirror_mode": {
    "name": "ipython",
    "version": 3
   },
   "file_extension": ".py",
   "mimetype": "text/x-python",
   "name": "python",
   "nbconvert_exporter": "python",
   "pygments_lexer": "ipython3",
   "version": "3.6.5"
  }
 },
 "nbformat": 4,
 "nbformat_minor": 2
}
