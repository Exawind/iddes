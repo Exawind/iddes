{
 "cells": [
  {
   "cell_type": "code",
   "execution_count": 1,
   "metadata": {},
   "outputs": [],
   "source": [
    "import pandas as pd\n",
    "import numpy as np\n",
    "import io\n",
    "import scipy as sp\n",
    "import scipy.fftpack\n",
    "import scipy.io as sio\n",
    "import matplotlib\n",
    "import matplotlib.pyplot as plt"
   ]
  },
  {
   "cell_type": "markdown",
   "metadata": {},
   "source": [
    "## Estimate $y_n$ given $\\Delta y_w$ and maximum center channel size"
   ]
  },
  {
   "cell_type": "code",
   "execution_count": 22,
   "metadata": {},
   "outputs": [
    {
     "name": "stdout",
     "output_type": "stream",
     "text": [
      "Growth rate: 1.05\n",
      "{'392.24': 120, '1994.756': 184, '18000.0': 280}\n",
      "\n",
      "\n",
      "Growth rate: 1.1\n",
      "{'392.24': 64, '1994.756': 96, '18000.0': 144}\n",
      "\n",
      "\n",
      "Growth rate: 1.2\n",
      "{'392.24': 32, '1994.756': 48, '18000.0': 72}\n",
      "\n",
      "\n"
     ]
    }
   ],
   "source": [
    "ymax = 0.05\n",
    "exr = [0.05, 0.1, 0.2]\n",
    "ret = [392.24, 1994.756, 18000.0]\n",
    "yn_init = 8\n",
    "yn_add = 4\n",
    "tr = 1000\n",
    "\n",
    "ynfinal = {}\n",
    "\n",
    "for e in exr:\n",
    "    for r in ret:\n",
    "        dely = 1.0/r\n",
    "\n",
    "        for i in list(range(1,tr)):\n",
    "            temp = {}\n",
    "            currn = yn_init + yn_add*(i-1)\n",
    "            for j in list(range(1,currn+1)):\n",
    "                if(j==1):\n",
    "                    temp[str(j)] = dely\n",
    "                if(j>1):\n",
    "                    temp[str(j)] = temp[str(j-1)]*(1+e)\n",
    "            if(temp[str(currn)]>ymax):\n",
    "                ynfinal[str(r)]=(currn-yn_add)*2\n",
    "                break\n",
    "    print(\"Growth rate: \" + str(1+e))\n",
    "    print(ynfinal)\n",
    "    print(\"\\r\\n\")\n",
    "    \n",
    "    "
   ]
  },
  {
   "cell_type": "code",
   "execution_count": null,
   "metadata": {},
   "outputs": [],
   "source": []
  }
 ],
 "metadata": {
  "kernelspec": {
   "display_name": "Python 3",
   "language": "python",
   "name": "python3"
  },
  "language_info": {
   "codemirror_mode": {
    "name": "ipython",
    "version": 3
   },
   "file_extension": ".py",
   "mimetype": "text/x-python",
   "name": "python",
   "nbconvert_exporter": "python",
   "pygments_lexer": "ipython3",
   "version": "3.6.5"
  }
 },
 "nbformat": 4,
 "nbformat_minor": 2
}
